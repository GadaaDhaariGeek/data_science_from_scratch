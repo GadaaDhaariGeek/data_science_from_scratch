{
 "cells": [
  {
   "cell_type": "code",
   "execution_count": 1,
   "id": "22f7ed03-d1b0-4241-8637-4b0cfc0ca504",
   "metadata": {},
   "outputs": [],
   "source": [
    "# This chapter is about the mechanics of python.\n",
    "# The =sub topic which were toiuched are as follows:|"
   ]
  },
  {
   "cell_type": "code",
   "execution_count": null,
   "id": "127a3097-79bc-4ea0-b7bf-6efe80052cab",
   "metadata": {},
   "outputs": [],
   "source": [
    "# Virtual env\n",
    "# indentatioopn and white spaces\n",
    "# python modules\n",
    "# python fucntions \n",
    "# strings \n",
    "# exceptions \n",
    "# lists\n",
    "# tuples\n",
    "# dictionaries\n",
    "#     defaultdict\n",
    "# COunters \n",
    "# Sets \n",
    "# Control flow\n",
    "# Truthiness - what is tru and what is flase in poython ? what is None (null in other langauge )\n",
    "# Sorting\n",
    "# list comprehensions \n",
    "# automatic testing and assert functions \n",
    "# OOPs\n",
    "# iterators and generators\n",
    "# Randomness - np.random\n",
    "# functional programming\n",
    "# zip and argument unpacking \n",
    "# args and kwargs \n",
    "# Type annotations* - important and newer for me"
   ]
  }
 ],
 "metadata": {
  "kernelspec": {
   "display_name": "Python 3 (ipykernel)",
   "language": "python",
   "name": "python3"
  },
  "language_info": {
   "codemirror_mode": {
    "name": "ipython",
    "version": 3
   },
   "file_extension": ".py",
   "mimetype": "text/x-python",
   "name": "python",
   "nbconvert_exporter": "python",
   "pygments_lexer": "ipython3",
   "version": "3.9.13"
  }
 },
 "nbformat": 4,
 "nbformat_minor": 5
}
