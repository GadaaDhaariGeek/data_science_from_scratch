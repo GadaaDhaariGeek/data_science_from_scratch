{
 "cells": [
  {
   "cell_type": "code",
   "execution_count": 1,
   "id": "21588990-3b64-4782-aa74-c753b71df565",
   "metadata": {},
   "outputs": [],
   "source": [
    "# chapter 5 - statistics"
   ]
  },
  {
   "cell_type": "code",
   "execution_count": 3,
   "id": "63e0a734-9a5a-4085-a047-05d53e1a31ee",
   "metadata": {},
   "outputs": [],
   "source": [
    "# Describing a single ste of data \n",
    "# how to describe a set of data\n",
    "# Central tendencies"
   ]
  },
  {
   "cell_type": "code",
   "execution_count": null,
   "id": "9b4242e3-fd85-46c9-8083-871d87fce613",
   "metadata": {},
   "outputs": [],
   "source": []
  }
 ],
 "metadata": {
  "kernelspec": {
   "display_name": "Python 3 (ipykernel)",
   "language": "python",
   "name": "python3"
  },
  "language_info": {
   "codemirror_mode": {
    "name": "ipython",
    "version": 3
   },
   "file_extension": ".py",
   "mimetype": "text/x-python",
   "name": "python",
   "nbconvert_exporter": "python",
   "pygments_lexer": "ipython3",
   "version": "3.9.13"
  }
 },
 "nbformat": 4,
 "nbformat_minor": 5
}
