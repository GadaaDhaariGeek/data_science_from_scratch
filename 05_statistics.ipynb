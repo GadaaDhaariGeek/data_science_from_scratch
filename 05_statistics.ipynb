{
 "cells": [
  {
   "cell_type": "code",
   "execution_count": 2,
   "id": "21588990-3b64-4782-aa74-c753b71df565",
   "metadata": {},
   "outputs": [],
   "source": [
    "# chapter 5 - statistics\n",
    "from collections import Counter\n",
    "import matplotlib.pyplot as plt\n",
    "from typing import List"
   ]
  },
  {
   "cell_type": "code",
   "execution_count": 5,
   "id": "63e0a734-9a5a-4085-a047-05d53e1a31ee",
   "metadata": {},
   "outputs": [
    {
     "data": {
      "image/png": "[encoded data removed]",
      "text/plain": [
       "<Figure size 800x300 with 1 Axes>"
      ]
     },
     "metadata": {},
     "output_type": "display_data"
    }
   ],
   "source": [
    "num_friends = [100.0,49,41,40,25,21,21,19,19,18,18,16,15,15,15,15,14,14,13,13,13,13,12,12,11,10,10,10,10,10,10,10,10,10,10,10,10,10,10,10,9,9,9,9,9,9,9,9,9,9,9,9,9,9,9,9,9,9,8,8,8,8,8,8,8,8,8,8,8,8,8,7,7,7,7,7,7,7,7,7,7,7,7,7,7,7,6,6,6,6,6,6,6,6,6,6,6,6,6,6,6,6,6,6,6,6,6,6,5,5,5,5,5,5,5,5,5,5,5,5,5,5,5,5,5,4,4,4,4,4,4,4,4,4,4,4,4,4,4,4,4,4,4,4,4,3,3,3,3,3,3,3,3,3,3,3,3,3,3,3,3,3,3,3,3,2,2,2,2,2,2,2,2,2,2,2,2,2,2,2,2,2,1,1,1,1,1,1,1,1,1,1,1,1,1,1,1,1,1,1,1,1,1,1]\n",
    "friend_counts = Counter(num_friends)\n",
    "xs = range(101)                         # largest value is 100\n",
    "ys = [friend_counts[x] for x in xs]     # height is just # of friends\n",
    "plt.figure(figsize=(8, 3))\n",
    "plt.bar(xs, ys)\n",
    "plt.axis([0, 101, 0, 25])\n",
    "plt.title(\"Histogram of Friend Counts\")\n",
    "plt.xlabel(\"# of friends\")\n",
    "plt.ylabel(\"# of people\")\n",
    "plt.show()"
   ]
  },
  {
   "cell_type": "code",
   "execution_count": 9,
   "id": "9b4242e3-fd85-46c9-8083-871d87fce613",
   "metadata": {},
   "outputs": [
    {
     "data": {
      "text/plain": [
       "7.333333333333333"
      ]
     },
     "execution_count": 9,
     "metadata": {},
     "output_type": "execute_result"
    }
   ],
   "source": [
    "##### Central tendencies in distributions #####\n",
    "# usually we would want to have some notion of where our data is centered.\n",
    "# Mean is one good candidate for this.\n",
    "def mean(xs: List[float]) -> float:\n",
    "    return sum(xs) / len(xs)\n",
    "\n",
    "mean(num_friends) # 7.333333\n",
    "\n",
    "# But mean is easily affected by outliers.\n",
    "# It always depends on the VALUE of every point."
   ]
  },
  {
   "cell_type": "code",
   "execution_count": 10,
   "id": "8fc6a5c6-9673-43b0-91af-559d33d653e5",
   "metadata": {},
   "outputs": [],
   "source": [
    "def _median_odd(xs: List[float]) -> float:\n",
    "    \"\"\"If len(xs) is odd, the median is the middle element\"\"\"\n",
    "    return sorted(xs)[len(xs) // 2]\n",
    "\n",
    "def _median_even(xs: List[float]) -> float:\n",
    "    \"\"\"If len(xs) is even, it's the average of the middle two elements\"\"\"\n",
    "    sorted_xs = sorted(xs)\n",
    "    hi_midpoint = len(xs) // 2 # e.g. length 4 => hi_midpoint 2\n",
    "    return (sorted_xs[hi_midpoint - 1] + sorted_xs[hi_midpoint]) / 2\n",
    "\n",
    "def median(v: List[float]) -> float:\n",
    "    \"\"\"Finds the 'middle-most' value of v\"\"\"\n",
    "    return _median_even(v) if len(v) % 2 == 0 else _median_odd(v)\n",
    "\n",
    "# Median DOES NOT depend fully on the value of each point\n",
    "\n",
    "# WHAT ARE THE METHODS TO COMPUTE MEDIANS WIHTOUT SORTING THE DATA ??"
   ]
  },
  {
   "cell_type": "code",
   "execution_count": 11,
   "id": "82f33872-fb4b-46ba-bf2f-8fc474d411a6",
   "metadata": {},
   "outputs": [],
   "source": [
    "assert median([1, 10, 2, 9, 5]) == 5\n",
    "assert median([1, 9, 2, 10]) == (2 + 9) / 2"
   ]
  },
  {
   "cell_type": "code",
   "execution_count": 13,
   "id": "7ab7fa06-a01f-4023-b5be-24c18ffcc541",
   "metadata": {},
   "outputs": [],
   "source": [
    "# A generalization of the median is the quantile\n",
    "def quantile(xs: List[float], p: float) -> float:\n",
    "    \"\"\"Returns the pth-percentile value in x\"\"\"\n",
    "    p_index = int(p * len(xs))\n",
    "    return sorted(xs)[p_index]\n",
    "\n",
    "assert quantile(num_friends, 0.10) == 1\n",
    "assert quantile(num_friends, 0.25) == 3\n",
    "assert quantile(num_friends, 0.75) == 9\n",
    "assert quantile(num_friends, 0.90) == 13"
   ]
  },
  {
   "cell_type": "code",
   "execution_count": 15,
   "id": "fb8c0164-b6a9-4a82-8297-7606860686b1",
   "metadata": {},
   "outputs": [],
   "source": [
    "def mode(x: List[float]) -> List[float]:\n",
    "    \"\"\"Returns a list, since there might be more than one mode\"\"\"\n",
    "    counts = Counter(x)\n",
    "    max_count = max(counts.values())\n",
    "    return [x_i for x_i, count in counts.items() if count == max_count]\n",
    "\n",
    "assert set(mode(num_friends)) == {1, 6}"
   ]
  },
  {
   "cell_type": "code",
   "execution_count": 17,
   "id": "bc0cb168-9d86-4b88-b51e-fb0941f1a22a",
   "metadata": {},
   "outputs": [],
   "source": [
    "# Dispersion\n",
    "# Dispersion refers to measures of how spread out our data is\n",
    "# \"range\" already means something in Python, so we'll use a different name\n",
    "def data_range(xs: List[float]) -> float:\n",
    "    return max(xs) - min(xs)\n",
    "assert data_range(num_friends) == 99"
   ]
  },
  {
   "cell_type": "code",
   "execution_count": 22,
   "id": "92a07683-9cd1-4fcd-a5b2-a31d21d09b1a",
   "metadata": {},
   "outputs": [],
   "source": [
    "Vector = List[float]\n",
    "def dot(v: Vector, w: Vector) -> float:\n",
    "    \"\"\"Computes v_1 * w_1 + ... + v_n * w_n\"\"\"\n",
    "    assert len(v) == len(w), \"vectors must be same length\"\n",
    "    return sum(v_i * w_i for v_i, w_i in zip(v, w))\n",
    "assert dot([1, 2, 3], [4, 5, 6]) == 32 # 1 * 4 + 2 * 5 + 3 * 6\n",
    "\n",
    "# TODO: need to import this method from linear algebra file (which we need to make)\n",
    "def sum_of_squares(v: List[float]) -> float:\n",
    "    \"\"\"Returns v_1 * v_1 + ... + v_n * v_n\"\"\"\n",
    "    return dot(v, v)"
   ]
  },
  {
   "cell_type": "code",
   "execution_count": 24,
   "id": "5b00ab0f-7a9b-4880-935e-e72e8de7cefc",
   "metadata": {},
   "outputs": [],
   "source": [
    "# deviation from mean\n",
    "def de_mean(xs: List[float]) -> List[float]:\n",
    "    \"\"\"Translate xs by subtracting its mean (so the result has mean 0)\"\"\"\n",
    "    x_bar = mean(xs)\n",
    "    return [x - x_bar for x in xs]\n",
    "\n",
    "def variance(xs: List[float]) -> float:\n",
    "    # TODO: why almost ???\n",
    "    \"\"\"Almost the average squared deviation from the mean\"\"\"\n",
    "    assert len(xs) >= 2, \"variance requires at least two elements\"\n",
    "    n = len(xs)\n",
    "    deviations = de_mean(xs)\n",
    "    # TODO: why (n-1) ??\n",
    "    return sum_of_squares(deviations) / (n - 1)\n",
    "assert 81.54 < variance(num_friends) < 81.55"
   ]
  },
  {
   "cell_type": "code",
   "execution_count": 26,
   "id": "37f2b3cf-1f52-49d8-b877-e40495d2b562",
   "metadata": {},
   "outputs": [],
   "source": [
    "import math\n",
    "def standard_deviation(xs: List[float]) -> float:\n",
    "    \"\"\"The standard deviation is the square root of the variance\"\"\"\n",
    "    return math.sqrt(variance(xs))\n",
    "assert 9.02 < standard_deviation(num_friends) < 9.04"
   ]
  },
  {
   "cell_type": "code",
   "execution_count": 27,
   "id": "ad09d43f-98aa-4210-93f7-c1f37f3880b2",
   "metadata": {},
   "outputs": [],
   "source": [
    "def interquartile_range(xs: List[float]) -> float:\n",
    "    \"\"\"Returns the difference between the 75%-ile and the 25%-ile\"\"\"\n",
    "    return quantile(xs, 0.75) - quantile(xs, 0.25)\n",
    "assert interquartile_range(num_friends) == 6"
   ]
  },
  {
   "cell_type": "code",
   "execution_count": 29,
   "id": "d25941f1-8ff9-4d6f-94c0-a038659096fb",
   "metadata": {},
   "outputs": [],
   "source": [
    "daily_minutes = [1,68.77,51.25,52.08,38.36,44.54,57.13,51.4,41.42,31.22,34.76,54.01,38.79,47.59,49.1,27.66,41.03,36.73,48.65,28.12,46.62,35.57,32.98,35,26.07,23.77,39.73,40.57,31.65,31.21,36.32,20.45,21.93,26.02,27.34,23.49,46.94,30.5,33.8,24.23,21.4,27.94,32.24,40.57,25.07,19.42,22.39,18.42,46.96,23.72,26.41,26.97,36.76,40.32,35.02,29.47,30.2,31,38.11,38.18,36.31,21.03,30.86,36.07,28.66,29.08,37.28,15.28,24.17,22.31,30.17,25.53,19.85,35.37,44.6,17.23,13.47,26.33,35.02,32.09,24.81,19.33,28.77,24.26,31.98,25.73,24.86,16.28,34.51,15.23,39.72,40.8,26.06,35.76,34.76,16.13,44.04,18.03,19.65,32.62,35.59,39.43,14.18,35.24,40.13,41.82,35.45,36.07,43.67,24.61,20.9,21.9,18.79,27.61,27.21,26.61,29.77,20.59,27.53,13.82,33.2,25,33.1,36.65,18.63,14.87,22.2,36.81,25.53,24.62,26.25,18.21,28.08,19.42,29.79,32.8,35.99,28.32,27.79,35.88,29.06,36.28,14.1,36.63,37.49,26.9,18.58,38.48,24.48,18.95,33.55,14.24,29.04,32.51,25.63,22.22,19,32.73,15.16,13.9,27.2,32.01,29.27,33,13.74,20.42,27.32,18.23,35.35,28.48,9.08,24.62,20.12,35.26,19.92,31.02,16.49,12.16,30.7,31.22,34.65,13.13,27.51,33.2,31.57,14.1,33.42,17.44,10.12,24.42,9.82,23.39,30.93,15.03,21.67,31.09,33.29,22.61,26.89,23.48,8.38,27.81,32.35,23.84]\n",
    "\n",
    "daily_hours = [dm / 60 for dm in daily_minutes]"
   ]
  },
  {
   "cell_type": "code",
   "execution_count": 30,
   "id": "709a5d58-61aa-43ec-92ab-2243e4b7afeb",
   "metadata": {},
   "outputs": [],
   "source": [
    "# Covariance\n",
    "# covariance, the paired analogue of variance. Whereas variance\n",
    "# measures how a single variable deviates from its mean, covariance measures how two\n",
    "# variables vary in tandem from their means\n",
    "def covariance(xs: List[float], ys: List[float]) -> float:\n",
    "    assert len(xs) == len(ys), \"xs and ys must have same number of elements\"\n",
    "    return dot(de_mean(xs), de_mean(ys)) / (len(xs) - 1)\n",
    "assert 22.42 < covariance(num_friends, daily_minutes) < 22.43\n",
    "assert 22.42 / 60 < covariance(num_friends, daily_hours) < 22.43 / 60"
   ]
  },
  {
   "cell_type": "code",
   "execution_count": null,
   "id": "3a576cad-2677-41ca-9369-078e3eddbc38",
   "metadata": {},
   "outputs": [],
   "source": [
    "# Nonetheless, this number can be hard to interpret, for a couple of reasons:\n",
    "# • Its units are the product of the inputs’ units (e.g., friend-minutes-per-day), which\n",
    "# can be hard to make sense of. (What’s a “friend-minute-per-day”?)\n",
    "# • If each user had twice as many friends (but the same number of minutes), the\n",
    "# covariance would be twice as large. But in a sense, the variables would be just as\n",
    "# interrelated. Said differently, it’s hard to say what counts as a “large” covariance"
   ]
  },
  {
   "cell_type": "code",
   "execution_count": 31,
   "id": "858176c4-81ae-42c2-8aac-a9c3b8a7574e",
   "metadata": {},
   "outputs": [],
   "source": [
    "def correlation(xs: List[float], ys: List[float]) -> float:\n",
    "    \"\"\"Measures how much xs and ys vary in tandem about their means\"\"\"\n",
    "    stdev_x = standard_deviation(xs)\n",
    "    stdev_y = standard_deviation(ys)\n",
    "    if stdev_x > 0 and stdev_y > 0:\n",
    "        return covariance(xs, ys) / stdev_x / stdev_y\n",
    "    else:\n",
    "        return 0 # if no variation, correlation is zero\n",
    "assert 0.24 < correlation(num_friends, daily_minutes) < 0.25\n",
    "assert 0.24 < correlation(num_friends, daily_hours) < 0.25"
   ]
  },
  {
   "cell_type": "code",
   "execution_count": 18,
   "id": "b80a4d7d-4451-4602-9d27-5ca66eb23017",
   "metadata": {},
   "outputs": [],
   "source": [
    "# The correlation is unitless and always lies between –1 (perfect anticorrelation) and\n",
    "# 1 (perfect correlation). A number like 0.25 represents a relatively weak positive corre‐\n",
    "# lation."
   ]
  },
  {
   "cell_type": "code",
   "execution_count": 21,
   "id": "651c35cc-57a2-4278-9101-13aca9b66094",
   "metadata": {},
   "outputs": [],
   "source": [
    "# The person with 100 friends (who spends only 1 minute per day on the site) is a huge\n",
    "# outlier, and correlation can be very sensitive to outliers"
   ]
  },
  {
   "cell_type": "code",
   "execution_count": 32,
   "id": "4f4cc881-0e63-468c-8f26-5550e2e90621",
   "metadata": {},
   "outputs": [],
   "source": [
    "outlier = num_friends.index(100) # index of outlier\n",
    "num_friends_good = [x\n",
    " for i, x in enumerate(num_friends)\n",
    " if i != outlier]\n",
    "daily_minutes_good = [x\n",
    " for i, x in enumerate(daily_minutes)\n",
    " if i != outlier]\n",
    "daily_hours_good = [dm / 60 for dm in daily_minutes_good]\n",
    "assert 0.57 < correlation(num_friends_good, daily_minutes_good) < 0.58\n",
    "assert 0.57 < correlation(num_friends_good, daily_hours_good) < 0.58"
   ]
  },
  {
   "cell_type": "code",
   "execution_count": 23,
   "id": "22ddc85e-747b-480f-966e-29aca986bf4a",
   "metadata": {},
   "outputs": [],
   "source": [
    "####### Simpson’s Paradox\n",
    "\n",
    "# The key issue is\n",
    "# that correlation is measuring the relationship between your two variables all else being\n",
    "# equal. If your dataclasses are assigned at random, as they might be in a well-designed\n",
    "# experiment, “all else being equal” might not be a terrible assumption. But when there\n",
    "# is a deeper pattern to class assignments, “all else being equal” can be an awful assump‐\n",
    "# tion.\n"
   ]
  },
  {
   "cell_type": "code",
   "execution_count": 24,
   "id": "db08686d-1aa5-4ff6-8082-80965ae756b1",
   "metadata": {},
   "outputs": [],
   "source": [
    "# A correlation of zero indicates that there is no LINEAR relationship between the two\n",
    "# variables. However, there may be other sorts of relationships\n",
    "\n",
    "# In addition, correlation tells you nothing about how large the relationship is"
   ]
  },
  {
   "cell_type": "code",
   "execution_count": null,
   "id": "a5af559f-7397-41b9-aaca-a6685a67c405",
   "metadata": {},
   "outputs": [],
   "source": [
    "####### Correlation and Causation\n",
    "\n",
    "# correlation is not causation"
   ]
  }
 ],
 "metadata": {
  "kernelspec": {
   "display_name": "Python 3 (ipykernel)",
   "language": "python",
   "name": "python3"
  },
  "language_info": {
   "codemirror_mode": {
    "name": "ipython",
    "version": 3
   },
   "file_extension": ".py",
   "mimetype": "text/x-python",
   "name": "python",
   "nbconvert_exporter": "python",
   "pygments_lexer": "ipython3",
   "version": "3.9.13"
  }
 },
 "nbformat": 4,
 "nbformat_minor": 5
}
