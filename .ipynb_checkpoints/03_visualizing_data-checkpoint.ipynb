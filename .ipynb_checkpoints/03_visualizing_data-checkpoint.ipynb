{
 "cells": [
  {
   "cell_type": "code",
   "execution_count": 1,
   "id": "27ae991c-1efa-4801-a900-73eb1488bb0d",
   "metadata": {},
   "outputs": [],
   "source": [
    "# Visualizing data "
   ]
  },
  {
   "cell_type": "code",
   "execution_count": null,
   "id": "674bd2d1-2cfe-465a-982d-625a396405d4",
   "metadata": {},
   "outputs": [],
   "source": [
    "# matplotlib\n",
    "#     bara charts \n",
    "#     scatter plots \n",
    "#     line charts "
   ]
  }
 ],
 "metadata": {
  "kernelspec": {
   "display_name": "Python 3 (ipykernel)",
   "language": "python",
   "name": "python3"
  },
  "language_info": {
   "codemirror_mode": {
    "name": "ipython",
    "version": 3
   },
   "file_extension": ".py",
   "mimetype": "text/x-python",
   "name": "python",
   "nbconvert_exporter": "python",
   "pygments_lexer": "ipython3",
   "version": "3.9.13"
  }
 },
 "nbformat": 4,
 "nbformat_minor": 5
}
