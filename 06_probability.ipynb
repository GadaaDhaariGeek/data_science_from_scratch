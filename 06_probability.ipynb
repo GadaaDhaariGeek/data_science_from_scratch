{
 "cells": [
  {
   "cell_type": "code",
   "execution_count": 1,
   "id": "feb5d540-5c23-4246-9eeb-0d79bb0d7ebf",
   "metadata": {},
   "outputs": [],
   "source": [
    "##### PROBABILITY #####"
   ]
  },
  {
   "cell_type": "code",
   "execution_count": 2,
   "id": "cdf81292-760a-445d-89e1-a39e162c8797",
   "metadata": {},
   "outputs": [],
   "source": [
    "# dependence and independence of events"
   ]
  },
  {
   "cell_type": "code",
   "execution_count": 3,
   "id": "b4deb9f7-29ba-464b-bd19-4780b540c410",
   "metadata": {},
   "outputs": [
    {
     "name": "stdout",
     "output_type": "stream",
     "text": [
      "P(both | older): 0.5007089325501317\n",
      "P(both | either):  0.3311897106109325\n"
     ]
    }
   ],
   "source": [
    "# what is the probability of of having bnoith the child as giorls gioven that at leats one of them is girl\n",
    "\n",
    "import enum, random\n",
    "# An Enum is a typed set of enumerated values. We can use them\n",
    "# to make our code more descriptive and readable.\n",
    "class Kid(enum.Enum):\n",
    " BOY = 0\n",
    " GIRL = 1\n",
    "def random_kid() -> Kid:\n",
    " return random.choice([Kid.BOY, Kid.GIRL])\n",
    "both_girls = 0\n",
    "older_girl = 0\n",
    "either_girl = 0\n",
    "random.seed(0)\n",
    "for _ in range(10000):\n",
    "    younger = random_kid()\n",
    "    older = random_kid()\n",
    "    if older == Kid.GIRL:\n",
    "        older_girl += 1\n",
    "    if older == Kid.GIRL and younger == Kid.GIRL:\n",
    "        both_girls += 1\n",
    "    if older == Kid.GIRL or younger == Kid.GIRL:\n",
    "        either_girl += 1\n",
    "print(\"P(both | older):\", both_girls / older_girl) # 0.514 ~ 1/2\n",
    "print(\"P(both | either): \", both_girls / either_girl) # 0.342 ~ 1/"
   ]
  },
  {
   "cell_type": "code",
   "execution_count": null,
   "id": "a384d845-3679-4876-bca4-fa98423366d3",
   "metadata": {},
   "outputs": [],
   "source": [
    "### random variables"
   ]
  }
 ],
 "metadata": {
  "kernelspec": {
   "display_name": "Python 3 (ipykernel)",
   "language": "python",
   "name": "python3"
  },
  "language_info": {
   "codemirror_mode": {
    "name": "ipython",
    "version": 3
   },
   "file_extension": ".py",
   "mimetype": "text/x-python",
   "name": "python",
   "nbconvert_exporter": "python",
   "pygments_lexer": "ipython3",
   "version": "3.9.13"
  }
 },
 "nbformat": 4,
 "nbformat_minor": 5
}
